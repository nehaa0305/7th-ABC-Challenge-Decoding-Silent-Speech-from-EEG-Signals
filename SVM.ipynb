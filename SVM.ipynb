{
  "nbformat": 4,
  "nbformat_minor": 0,
  "metadata": {
    "colab": {
      "provenance": [],
      "gpuType": "T4"
    },
    "kernelspec": {
      "name": "python3",
      "display_name": "Python 3"
    },
    "language_info": {
      "name": "python"
    },
    "accelerator": "GPU"
  },
  "cells": [
    {
      "cell_type": "code",
      "execution_count": 3,
      "metadata": {
        "colab": {
          "base_uri": "https://localhost:8080/"
        },
        "id": "h1cYq9KXLRfY",
        "outputId": "20cf624f-d8ef-4112-e879-9a15b442a799"
      },
      "outputs": [
        {
          "output_type": "stream",
          "name": "stdout",
          "text": [
            " Cross-Validation Accuracy: 1.0000 ± 0.0000\n",
            "\n",
            " Classification Report:\n",
            "               precision    recall  f1-score   support\n",
            "\n",
            "      cancel       1.00      1.00      1.00       596\n",
            "        down       1.00      1.00      1.00       600\n",
            "        left       1.00      1.00      1.00       600\n",
            "       right       1.00      1.00      1.00       600\n",
            "      select       1.00      1.00      1.00       600\n",
            "          up       1.00      1.00      1.00       600\n",
            "\n",
            "    accuracy                           1.00      3596\n",
            "   macro avg       1.00      1.00      1.00      3596\n",
            "weighted avg       1.00      1.00      1.00      3596\n",
            "\n",
            "\n",
            " Confusion Matrix:\n",
            " [[596   0   0   0   0   0]\n",
            " [  0 600   0   0   0   0]\n",
            " [  0   0 600   0   0   0]\n",
            " [  0   0   0 600   0   0]\n",
            " [  0   0   0   0 600   0]\n",
            " [  0   0   0   0   0 600]]\n"
          ]
        }
      ],
      "source": [
        "import pandas as pd\n",
        "import numpy as np\n",
        "from sklearn.svm import SVC\n",
        "from sklearn.model_selection import cross_val_score, cross_val_predict\n",
        "from sklearn.metrics import accuracy_score, classification_report, confusion_matrix, roc_auc_score\n",
        "df_sorted=pd.read_csv(\"/content/final_dataset.csv\")\n",
        "# Extract numeric features and target variable\n",
        "X = df_sorted.drop(columns=[\"subject\", \"session\", \"target\"])  # Remove non-numeric columns\n",
        "y = df_sorted[\"target\"]\n",
        "\n",
        "# Initialize SVM with an RBF kernel (good default)\n",
        "svm_model = SVC(C=1.0, kernel=\"rbf\", probability=True)  # Set probability=True for AUC-ROC\n",
        "\n",
        "# Perform cross-validation for accuracy scores\n",
        "cv_scores = cross_val_score(svm_model, X, y, cv=5, scoring='accuracy')\n",
        "\n",
        "# Train on full dataset\n",
        "svm_model.fit(X, y)\n",
        "\n",
        "# Predict on the same dataset\n",
        "y_pred = svm_model.predict(X)\n",
        "y_pred_proba = svm_model.predict_proba(X)  # Get probability scores for AUC-ROC\n",
        "\n",
        "# Compute AUC-ROC for multiclass classification\n",
        " # One-vs-Rest\n",
        "\n",
        "# Print evaluation metrics\n",
        "print(f\" Cross-Validation Accuracy: {np.mean(cv_scores):.4f} ± {np.std(cv_scores):.4f}\")\n",
        "\n",
        "print(\"\\n Classification Report:\\n\", classification_report(y, y_pred))\n",
        "print(\"\\n Confusion Matrix:\\n\", confusion_matrix(y, y_pred))\n"
      ]
    }
  ]
}