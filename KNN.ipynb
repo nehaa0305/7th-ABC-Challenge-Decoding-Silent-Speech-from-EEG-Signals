{
  "nbformat": 4,
  "nbformat_minor": 0,
  "metadata": {
    "colab": {
      "provenance": [],
      "gpuType": "T4"
    },
    "kernelspec": {
      "name": "python3",
      "display_name": "Python 3"
    },
    "language_info": {
      "name": "python"
    },
    "accelerator": "GPU"
  },
  "cells": [
    {
      "cell_type": "code",
      "execution_count": 1,
      "metadata": {
        "colab": {
          "base_uri": "https://localhost:8080/"
        },
        "id": "_wGoS-zePZ0S",
        "outputId": "38f83880-4c81-4ae0-cc8a-fa4402042339"
      },
      "outputs": [
        {
          "output_type": "stream",
          "name": "stdout",
          "text": [
            "Accuracy: 0.1668520578420467\n",
            "\n",
            "Classification Report:\n",
            "               precision    recall  f1-score   support\n",
            "\n",
            "      cancel       0.00      0.00      0.00       596\n",
            "        down       0.00      0.00      0.00       600\n",
            "        left       0.00      0.00      0.00       600\n",
            "       right       0.00      0.00      0.00       600\n",
            "      select       0.00      0.00      0.00       600\n",
            "          up       0.17      1.00      0.29       600\n",
            "\n",
            "    accuracy                           0.17      3596\n",
            "   macro avg       0.03      0.17      0.05      3596\n",
            "weighted avg       0.03      0.17      0.05      3596\n",
            "\n",
            "\n",
            "Confusion Matrix:\n",
            " [[  0   0   0   0   0 596]\n",
            " [  0   0   0   0   0 600]\n",
            " [  0   0   0   0   0 600]\n",
            " [  0   0   0   0   0 600]\n",
            " [  0   0   0   0   0 600]\n",
            " [  0   0   0   0   0 600]]\n",
            "\n",
            "AUC-ROC Score: 0.5\n"
          ]
        },
        {
          "output_type": "stream",
          "name": "stderr",
          "text": [
            "/usr/local/lib/python3.11/dist-packages/sklearn/metrics/_classification.py:1565: UndefinedMetricWarning: Precision is ill-defined and being set to 0.0 in labels with no predicted samples. Use `zero_division` parameter to control this behavior.\n",
            "  _warn_prf(average, modifier, f\"{metric.capitalize()} is\", len(result))\n",
            "/usr/local/lib/python3.11/dist-packages/sklearn/metrics/_classification.py:1565: UndefinedMetricWarning: Precision is ill-defined and being set to 0.0 in labels with no predicted samples. Use `zero_division` parameter to control this behavior.\n",
            "  _warn_prf(average, modifier, f\"{metric.capitalize()} is\", len(result))\n",
            "/usr/local/lib/python3.11/dist-packages/sklearn/metrics/_classification.py:1565: UndefinedMetricWarning: Precision is ill-defined and being set to 0.0 in labels with no predicted samples. Use `zero_division` parameter to control this behavior.\n",
            "  _warn_prf(average, modifier, f\"{metric.capitalize()} is\", len(result))\n"
          ]
        }
      ],
      "source": [
        "import pandas as pd\n",
        "import numpy as np\n",
        "from sklearn.neighbors import KNeighborsClassifier\n",
        "from sklearn.metrics import accuracy_score, classification_report, confusion_matrix, roc_auc_score, roc_curve\n",
        "import matplotlib.pyplot as plt\n",
        "df_sorted=pd.read_csv(\"/content/final_dataset.csv\")\n",
        "# Select only numeric features (excluding subject, session, epoch)\n",
        "X = df_sorted.drop(columns=['subject', 'session', 'epoch', 'target'])  # Keep only features\n",
        "y = df_sorted['target']  # Target labels\n",
        "\n",
        "# Initialize KNN model\n",
        "knn = KNeighborsClassifier(n_neighbors=5, weights='uniform', metric='euclidean')\n",
        "\n",
        "# Train model on entire dataset\n",
        "knn.fit(X, y)\n",
        "\n",
        "# Predictions\n",
        "y_pred = knn.predict(X)\n",
        "y_pred_proba = knn.predict_proba(X)\n",
        "\n",
        "# Evaluation Metrics\n",
        "print(\"Accuracy:\", accuracy_score(y, y_pred))\n",
        "print(\"\\nClassification Report:\\n\", classification_report(y, y_pred))\n",
        "print(\"\\nConfusion Matrix:\\n\", confusion_matrix(y, y_pred))\n",
        "\n",
        "# AUC-ROC (for multi-class classification)\n",
        "auc_roc = roc_auc_score(y, y_pred_proba, multi_class='ovr')\n",
        "print(\"\\nAUC-ROC Score:\", auc_roc)\n",
        "\n",
        "# ROC Curve (Only if binary classification)\n",
        "if len(set(y)) == 2:\n",
        "    fpr, tpr, _ = roc_curve(y, y_pred_proba[:, 1])\n",
        "    plt.plot(fpr, tpr, label=\"KNN (AUC = {:.3f})\".format(auc_roc))\n",
        "    plt.xlabel(\"False Positive Rate\")\n",
        "    plt.ylabel(\"True Positive Rate\")\n",
        "    plt.legend()\n",
        "    plt.show()\n"
      ]
    }
  ]
}